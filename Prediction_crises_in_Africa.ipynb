{
  "cells": [
    {
      "metadata": {
        "_uuid": "8f2839f25d086af736a60e9eeb907d3b93b6e0e5",
        "_cell_guid": "b1076dfc-b9ad-4769-8c92-a6c4dae69d19",
        "trusted": true
      },
      "cell_type": "code",
      "source": "# This Python 3 environment comes with many helpful analytics libraries installed\n# It is defined by the kaggle/python docker image: https://github.com/kaggle/docker-python\n# For example, here's several helpful packages to load in \n\nimport numpy as np # linear algebra\nimport pandas as pd # data processing, CSV file I/O (e.g. pd.read_csv)\nimport re\nimport csv\nfrom collections import defaultdict\n# Input data files are available in the \"../input/\" directory.\n# For example, running this (by clicking run or pressing Shift+Enter) will list the files in the input directory\nimport seaborn as sns\n%matplotlib inline\n\nimport os\nprint(os.listdir(\"../input\"))\n\n# Any results you write to the current directory are saved as output.",
      "execution_count": null,
      "outputs": []
    },
    {
      "metadata": {
        "_cell_guid": "79c7e3d0-c299-4dcb-8224-4455121ee9b0",
        "_uuid": "d629ff2d2480ee46fbb7e2d37f6b5fab8052498a",
        "trusted": true
      },
      "cell_type": "code",
      "source": "df = pd.read_csv('../input/african_conflicts.csv',encoding=\"latin1\",low_memory=False)\n",
      "execution_count": null,
      "outputs": []
    },
    {
      "metadata": {
        "trusted": true,
        "_uuid": "799cd162651a19c0c98606a6a6b96f95e2a0b24b"
      },
      "cell_type": "code",
      "source": "df.dtypes\n",
      "execution_count": null,
      "outputs": []
    },
    {
      "metadata": {
        "trusted": true,
        "_uuid": "5a8036eee6ab1f0a8b17c707783d7fa53074cfa0"
      },
      "cell_type": "code",
      "source": "df_1 = df[['COUNTRY','EVENT_DATE','INTERACTION','YEAR','FATALITIES','GEO_PRECISION','INTER1','INTER2','LATITUDE','LONGITUDE']]",
      "execution_count": null,
      "outputs": []
    },
    {
      "metadata": {
        "trusted": true,
        "_uuid": "372cfdede5d87ae4b99f83cbc18dab9d1394598a"
      },
      "cell_type": "code",
      "source": "df.head()",
      "execution_count": null,
      "outputs": []
    },
    {
      "metadata": {
        "trusted": true,
        "_uuid": "1cfb853c20914a682b5bf99c7ffde6ad98667f4b"
      },
      "cell_type": "code",
      "source": "df.dtypes\n",
      "execution_count": null,
      "outputs": []
    },
    {
      "metadata": {
        "trusted": true,
        "_uuid": "8d871ab39d8aeb8dded90e585c80a722f6098306"
      },
      "cell_type": "code",
      "source": "df_1.head()\n    ",
      "execution_count": null,
      "outputs": []
    },
    {
      "metadata": {
        "trusted": true,
        "_uuid": "e8d0f1f67352ced9b8490121f257afad8ee7c706"
      },
      "cell_type": "code",
      "source": "d_Alger = df_1[df_1['COUNTRY']=='Algeria'] \n",
      "execution_count": null,
      "outputs": []
    },
    {
      "metadata": {
        "trusted": true,
        "_uuid": "055132d5d5a26ae23fefc02037c39fea3458a5ca"
      },
      "cell_type": "code",
      "source": "d_Alger.dtypes",
      "execution_count": null,
      "outputs": []
    },
    {
      "metadata": {
        "trusted": true,
        "_uuid": "3bb46ea49a315e27ec57a5f7d69a376bd3462819"
      },
      "cell_type": "code",
      "source": " d_Alger.tail(5)",
      "execution_count": null,
      "outputs": []
    },
    {
      "metadata": {
        "trusted": true,
        "_uuid": "ac1fa77a2993a953472546218837d30cc0853d4c"
      },
      "cell_type": "code",
      "source": "\nd_Alger['INTERACTION'] = d_Alger['INTERACTION'].astype('category').cat.codes\n",
      "execution_count": null,
      "outputs": []
    },
    {
      "metadata": {
        "trusted": true,
        "_uuid": "ea582872e329edebbed19a01bfcf2459233f6ee0"
      },
      "cell_type": "code",
      "source": "d_Alger['LONGITUDE'] = d_Alger['LONGITUDE'].astype('float')\nd_Alger['LATITUDE'] = d_Alger['LATITUDE'].astype('float')",
      "execution_count": null,
      "outputs": []
    },
    {
      "metadata": {
        "trusted": true,
        "_uuid": "82304d3f0ac98019e805e1ac3121fe69cfed2347"
      },
      "cell_type": "code",
      "source": "d_Alger.corr()",
      "execution_count": null,
      "outputs": []
    },
    {
      "metadata": {
        "trusted": true,
        "_uuid": "3adcd70e2171c80456cae91d29b1c8e8a9f03acb"
      },
      "cell_type": "code",
      "source": "# calculate the correlation matrix\ncorr = d_Alger.corr()\n\n# plot the heatmap\nsns.heatmap(corr, \n        xticklabels=corr.columns,\n        yticklabels=corr.columns)",
      "execution_count": null,
      "outputs": []
    },
    {
      "metadata": {
        "trusted": true,
        "_uuid": "54e5421cddbdf1f740e5fd3289b56699ff3a7627"
      },
      "cell_type": "markdown",
      "source": "## DATA EXPLORING"
    },
    {
      "metadata": {
        "trusted": true,
        "_uuid": "f6aa1cebc2d3a711e15a4b83ec83c61aa942bfeb"
      },
      "cell_type": "code",
      "source": "d_Alger['EVENT_DATE'] = pd.to_datetime(d_Alger['EVENT_DATE'])",
      "execution_count": null,
      "outputs": []
    },
    {
      "metadata": {
        "trusted": true,
        "_uuid": "75a897eda3c24b14aa8a0bb4deb3f156e56507d0"
      },
      "cell_type": "code",
      "source": "d_Alger['WEEK'] = pd.to_datetime(d_Alger['EVENT_DATE']).dt.week",
      "execution_count": null,
      "outputs": []
    },
    {
      "metadata": {
        "trusted": true,
        "_uuid": "7626482e7cc57d0a49abcfb4cce0ce172b5d5289"
      },
      "cell_type": "code",
      "source": "d_Alger.dtypes",
      "execution_count": null,
      "outputs": []
    },
    {
      "metadata": {
        "trusted": true,
        "_uuid": "2fb09cda696bea6783bfa0a9edb0a43d1b15e255"
      },
      "cell_type": "code",
      "source": "# Import train_test_split function\nfrom sklearn.model_selection import train_test_split\n\nX=d_Alger[['YEAR', 'FATALITIES', 'GEO_PRECISION', 'INTER1','INTER2','LATITUDE','LONGITUDE']]  # Features\ny=d_Alger['INTERACTION']  # Labels\n# Split dataset into training set and test set\nX_train, X_test, y_train, y_test = train_test_split(X, y, test_size=0.3) # 70% training and 30% test",
      "execution_count": null,
      "outputs": []
    },
    {
      "metadata": {
        "trusted": true,
        "_uuid": "d0ed3adff65f0cb9db0602b2e4903b429b8e102d"
      },
      "cell_type": "code",
      "source": "X_train.shape",
      "execution_count": null,
      "outputs": []
    },
    {
      "metadata": {
        "trusted": true,
        "_uuid": "8041de7cab796c114d06b21b1c8cb7ee6d507803"
      },
      "cell_type": "code",
      "source": "#Import Random Forest Model\nfrom sklearn.ensemble import RandomForestClassifier\n\n#Create a Gaussian Classifier\nclf=RandomForestClassifier(n_estimators=100)\n\n#Train the model using the training sets y_pred=clf.predict(X_test)\nclf.fit(X_train,y_train)\n\ny_pred=clf.predict(X_test)",
      "execution_count": null,
      "outputs": []
    },
    {
      "metadata": {
        "trusted": true,
        "_uuid": "4bac1e129699afb64c4bdb3892d71f3fd8d29f22"
      },
      "cell_type": "code",
      "source": "#Import scikit-learn metrics module for accuracy calculation\nfrom sklearn import metrics\n# Model Accuracy, how often is the classifier correct?\nprint(\"Accuracy:\",metrics.accuracy_score(y_test, y_pred))",
      "execution_count": null,
      "outputs": []
    },
    {
      "metadata": {
        "trusted": true,
        "_uuid": "2d92664fe32a4d90ac651d50bfa8791d2033da90"
      },
      "cell_type": "code",
      "source": "",
      "execution_count": null,
      "outputs": []
    }
  ],
  "metadata": {
    "kernelspec": {
      "display_name": "Python 3",
      "language": "python",
      "name": "python3"
    },
    "language_info": {
      "name": "python",
      "version": "3.6.6",
      "mimetype": "text/x-python",
      "codemirror_mode": {
        "name": "ipython",
        "version": 3
      },
      "pygments_lexer": "ipython3",
      "nbconvert_exporter": "python",
      "file_extension": ".py"
    }
  },
  "nbformat": 4,
  "nbformat_minor": 1
}